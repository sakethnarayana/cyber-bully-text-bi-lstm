{
  "nbformat": 4,
  "nbformat_minor": 0,
  "metadata": {
    "colab": {
      "provenance": [],
      "authorship_tag": "ABX9TyN5JdT8+TXjMwooKW7Dcd0Z",
      "include_colab_link": true
    },
    "kernelspec": {
      "name": "python3",
      "display_name": "Python 3"
    },
    "language_info": {
      "name": "python"
    }
  },
  "cells": [
    {
      "cell_type": "markdown",
      "metadata": {
        "id": "view-in-github",
        "colab_type": "text"
      },
      "source": [
        "<a href=\"https://colab.research.google.com/github/sakethnarayana/cyber-bully-text-bi-lstm/blob/main/prefinal_text.ipynb\" target=\"_parent\"><img src=\"https://colab.research.google.com/assets/colab-badge.svg\" alt=\"Open In Colab\"/></a>"
      ]
    },
    {
      "cell_type": "code",
      "execution_count": null,
      "metadata": {
        "colab": {
          "base_uri": "https://localhost:8080/"
        },
        "id": "fCb22-_OX5Hl",
        "outputId": "67d95cf6-5d14-486d-a928-7c6705290e77"
      },
      "outputs": [
        {
          "output_type": "stream",
          "name": "stdout",
          "text": [
            "Drive already mounted at /content/drive; to attempt to forcibly remount, call drive.mount(\"/content/drive\", force_remount=True).\n"
          ]
        },
        {
          "output_type": "stream",
          "name": "stderr",
          "text": [
            "[nltk_data] Downloading package stopwords to /root/nltk_data...\n",
            "[nltk_data]   Package stopwords is already up-to-date!\n",
            "[nltk_data] Downloading package punkt to /root/nltk_data...\n",
            "[nltk_data]   Package punkt is already up-to-date!\n"
          ]
        }
      ],
      "source": [
        "from google.colab import drive\n",
        "drive.mount('/content/drive')\n",
        "import tensorflow as tf\n",
        "import pandas as pd\n",
        "import numpy as np\n",
        "import nltk\n",
        "nltk.download('stopwords')\n",
        "nltk.download('punkt')\n",
        "from nltk.corpus import stopwords\n",
        "from nltk.tokenize import word_tokenize\n",
        "import functools, re\n",
        "import random\n",
        "import tensorflow as tf\n",
        "from tensorflow.keras.preprocessing.text import Tokenizer\n",
        "from tensorflow.keras.preprocessing.sequence import pad_sequences\n",
        "from textblob import TextBlob\n",
        "from pydub import AudioSegment\n",
        "import speech_recognition as sr"
      ]
    },
    {
      "cell_type": "code",
      "source": [
        "# Load the model\n",
        "model =  tf.keras.models.load_model('/content/drive/MyDrive/Project/models/cyberbullying_model_bilstm.h5')\n",
        "#load the dataset\n",
        "df = pd.read_csv(\"/content/drive/My Drive/Project/twitter.csv\")\n",
        "stopwords = set(stopwords.words(\"english\"))\n",
        "stopwords = [i.lower() for i in nltk.corpus.stopwords.words('english') + [chr(i) for i in range(97, 123)]]\n",
        "x = df.tweet_text.apply(lambda text: re.sub(\"\\s+\", \" \", ' '.join([i for i in re.sub(\"[^9A-Za-z ]\", \"\" , re.sub(\"\\\\n\", \"\", re.sub(\"\\s+\", \" \", re.sub(r'http\\S+', '', text.lower())))).split(\" \") if i not in stopwords]))).values.astype(str)\n",
        "y = pd.get_dummies(df.cyberbullying_type)\n",
        "labels = list(y.columns)"
      ],
      "metadata": {
        "id": "ICsT7BHkbtBy"
      },
      "execution_count": null,
      "outputs": []
    },
    {
      "cell_type": "code",
      "source": [],
      "metadata": {
        "id": "1VaL8_8-D63W"
      },
      "execution_count": null,
      "outputs": []
    },
    {
      "cell_type": "code",
      "source": [
        "choice=input(\"audio or text : \")\n",
        "if choice=='audio':\n",
        "  # Load the MP3 file\n",
        "  filename=input(\"enter audio file name:\")\n",
        "  mp3_audio = AudioSegment.from_file(\"/content/drive/My Drive/audios/\"+filename+\".mp3\", format=\"mp3\")\n",
        "\n",
        "  # Save the MP3 file as a WAV fil\n",
        "  mp3_audio.export(\"audio.wav\", format=\"wav\")\n",
        "\n",
        "# Transcribe the WAV file to text \n",
        "  r = sr.Recognizer()\n",
        "  audio_file = sr.AudioFile(\"audio.wav\")\n",
        "\n",
        "  with audio_file as source:\n",
        "      audio_text = r.record(source)\n",
        "\n",
        "  result = r.recognize_google(audio_text, show_all=True)\n",
        "  custom_input= result['alternative'][0]['transcript']\n",
        "  print(custom_input)\n",
        "else:\n",
        "  custom_input=str(input(\"Enter text to check whether it is bully or not\"))\n",
        "\n",
        "\n",
        "def sentiment_analysis(text):\n",
        "    analysis = TextBlob(text)\n",
        "    if analysis.sentiment.polarity > 0:\n",
        "        return 1\n",
        "    elif analysis.sentiment.polarity == 0:\n",
        "        return 1\n",
        "    else:\n",
        "        return 0\n",
        "\n",
        "def fun(arr):\n",
        "  if arr in ['other_cyberbullying','gender','age','ethnicity','religion']:\n",
        "    return 0\n",
        "  else:\n",
        "    return 1\n",
        "    \n",
        "x=sentiment_analysis(custom_input)\n",
        "tokenizer=Tokenizer()\n",
        "\n",
        "# Preprocess the custom input text in the same way as you did for the training data\n",
        "custom_input = re.sub(\"\\s+\", \" \", ' '.join([i for i in re.sub(\"[^9A-Za-z ]\", \"\" , re.sub(\"\\\\n\", \"\", re.sub(\"\\s+\", \" \", re.sub(r'http\\S+', '', custom_input.lower())))).split(\" \") if i not in stopwords]))\n",
        "custom_input = tokenizer.texts_to_sequences([custom_input])\n",
        "custom_input = pad_sequences(custom_input, maxlen=100, padding='post', truncating='post')\n",
        "\n",
        "# Make the prediction using the model\n",
        "prediction = model.predict(custom_input)\n",
        "\n",
        "# Get the index of the highest predicted class\n",
        "predicted_class_index = np.argmax(prediction)\n",
        "\n",
        "# Get the corresponding label for the predicted class\n",
        "predicted_class = labels[predicted_class_index]\n",
        "\n",
        "# print(\"The predicted cyberbullying type is:\", fun(predicted_class) or x )\n",
        "if fun(predicted_class) or x :\n",
        "  print(\"the text is not cyber bullying\")\n",
        "else:\n",
        "  print(\"the text is cyber bullying\")\n"
      ],
      "metadata": {
        "colab": {
          "base_uri": "https://localhost:8080/"
        },
        "id": "Lc6IJm-9AhDR",
        "outputId": "121feb6d-7735-4985-bf4f-03a3b02f9c30"
      },
      "execution_count": null,
      "outputs": [
        {
          "output_type": "stream",
          "name": "stdout",
          "text": [
            "audio or text : text\n",
            "Enter text to check whether it is bully or notyou are ugly\n",
            "1/1 [==============================] - 0s 50ms/step\n",
            "the text is cyber bullying\n"
          ]
        }
      ]
    }
  ]
}